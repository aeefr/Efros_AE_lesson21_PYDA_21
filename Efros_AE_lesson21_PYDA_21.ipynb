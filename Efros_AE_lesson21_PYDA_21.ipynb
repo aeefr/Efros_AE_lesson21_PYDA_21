{
 "cells": [
  {
   "cell_type": "markdown",
   "metadata": {},
   "source": [
    "# Задание 1\n",
    "## Скачайте с сайта grouplens.org...movielens/ датасет любого размера. Определите какому фильму было выставлено больше всего оценок 5.0."
   ]
  },
  {
   "cell_type": "code",
   "execution_count": 12,
   "metadata": {},
   "outputs": [
    {
     "name": "stdout",
     "output_type": "stream",
     "text": [
      "Фильму Shawshank Redemption, The (1994) выставлено больше всего оценок 5.0\n"
     ]
    }
   ],
   "source": [
    "import pandas as pd\n",
    "\n",
    "# Находим ID лучшего фильма\n",
    "rate = pd.read_csv('ratings.csv')\n",
    "rate_5 = rate[(rate['rating'] == 5)]\n",
    "best_movieID = rate_5['movieId'].value_counts().idxmax()\n",
    "\n",
    "# По номеру ID находим название фильма\n",
    "list_movies = pd.read_csv('movies.csv')\n",
    "name_movies = list_movies[(list_movies['movieId'] == best_movieID)]['title'].values[0]\n",
    "\n",
    "print(f'Фильму {name_movies} выставлено больше всего оценок 5.0')"
   ]
  },
  {
   "cell_type": "markdown",
   "metadata": {},
   "source": [
    "# Задание 2\n",
    "## По данным файла power.csv посчитайте суммарное потребление стран Прибалтики (Латвия, Литва и Эстония)категорий 4, 12 и 21 за период с 2005 по 2010 года. Не учитывайте в расчетах отрицательные значения quantity.\n",
    "\n",
    "\n"
   ]
  },
  {
   "cell_type": "code",
   "execution_count": 18,
   "metadata": {},
   "outputs": [
    {
     "data": {
      "text/plain": [
       "240580.0"
      ]
     },
     "execution_count": 18,
     "metadata": {},
     "output_type": "execute_result"
    }
   ],
   "source": [
    "import pandas as pd\n",
    "data = pd.read_csv('power.csv')\n",
    "filtered_data = data[((data['country'] == 'Latvia') | (data['country'] == 'Lithuania') | (data['country'] == 'Estonia')) &\n",
    "                     ((data['category'] == 4) | (data['category'] == 12) | (data['category'] == 21)) &\n",
    "                    (data['quantity'] >= 0) & (data['year'] <= 2010) & ( data['year'] >= 2005)]\n",
    "sum_quantity = filtered_data['quantity'].sum()\n",
    "sum_quantity"
   ]
  },
  {
   "cell_type": "code",
   "execution_count": null,
   "metadata": {},
   "outputs": [],
   "source": []
  }
 ],
 "metadata": {
  "kernelspec": {
   "display_name": "Python 3",
   "language": "python",
   "name": "python3"
  },
  "language_info": {
   "codemirror_mode": {
    "name": "ipython",
    "version": 3
   },
   "file_extension": ".py",
   "mimetype": "text/x-python",
   "name": "python",
   "nbconvert_exporter": "python",
   "pygments_lexer": "ipython3",
   "version": "3.8.5"
  }
 },
 "nbformat": 4,
 "nbformat_minor": 4
}
