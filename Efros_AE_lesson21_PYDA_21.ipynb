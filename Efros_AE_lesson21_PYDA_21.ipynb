{
 "cells": [
  {
   "cell_type": "markdown",
   "metadata": {},
   "source": [
    "# Задание 1\n",
    "## Скачайте с сайта grouplens.org...movielens/ датасет любого размера. Определите какому фильму было выставлено больше всего оценок 5.0."
   ]
  },
  {
   "cell_type": "code",
   "execution_count": 12,
   "metadata": {},
   "outputs": [
    {
     "name": "stdout",
     "output_type": "stream",
     "text": [
      "Фильму Shawshank Redemption, The (1994) выставлено больше всего оценок 5.0\n"
     ]
    }
   ],
   "source": [
    "import pandas as pd\n",
    "\n",
    "# Находим ID лучшего фильма\n",
    "rate = pd.read_csv('ratings.csv')\n",
    "rate_5 = rate[(rate['rating'] == 5)]\n",
    "best_movieID = rate_5['movieId'].value_counts().idxmax()\n",
    "\n",
    "# По номеру ID находим название фильма\n",
    "list_movies = pd.read_csv('movies.csv')\n",
    "name_movies = list_movies[(list_movies['movieId'] == best_movieID)]['title'].values[0]\n",
    "\n",
    "print(f'Фильму {name_movies} выставлено больше всего оценок 5.0')"
   ]
  },
  {
   "cell_type": "code",
   "execution_count": null,
   "metadata": {},
   "outputs": [],
   "source": []
  },
  {
   "cell_type": "code",
   "execution_count": null,
   "metadata": {},
   "outputs": [],
   "source": []
  },
  {
   "cell_type": "code",
   "execution_count": null,
   "metadata": {},
   "outputs": [],
   "source": []
  }
 ],
 "metadata": {
  "kernelspec": {
   "display_name": "Python 3",
   "language": "python",
   "name": "python3"
  },
  "language_info": {
   "codemirror_mode": {
    "name": "ipython",
    "version": 3
   },
   "file_extension": ".py",
   "mimetype": "text/x-python",
   "name": "python",
   "nbconvert_exporter": "python",
   "pygments_lexer": "ipython3",
   "version": "3.8.5"
  }
 },
 "nbformat": 4,
 "nbformat_minor": 4
}
